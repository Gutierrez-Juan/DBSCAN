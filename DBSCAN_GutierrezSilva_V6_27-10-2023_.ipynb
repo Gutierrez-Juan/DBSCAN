{
 "cells": [
  {
   "cell_type": "markdown",
   "id": "6687f8ff",
   "metadata": {},
   "source": [
    "# Agrupación espacial basado en densidad de aplicaciones con ruido (DBSCAN)"
   ]
  },
  {
   "attachments": {
    "image-2.png": {
     "image/png": "[encoded data removed]"
    }
   },
   "cell_type": "markdown",
   "id": "6df44c4d",
   "metadata": {},
   "source": [
    "**DESCRIPCIÓN**:\n",
    "\n",
    "Gutiérrez-Silva, Juan Alberto (2023).\n",
    "\n",
    "Basado en Ester et al. (1996) **(1)**\n",
    "\n",
    "Algoritmo de agrupamiento o clustering espacial de múltiples usos.\n",
    "\n",
    "Datos de entrada:\n",
    "Archivo CSV organizado de la siguiente manera:\n",
    "\n",
    "![image-2.png](attachment:image-2.png)\n",
    "\n",
    "Los valores deben estar separados por comas y usar puntos para marcar decimales.\n",
    "\n",
    "**(1)** Ester, M., Kriegel, H. P., Sander, J., & Xu, X. (1996, August). A density-based algorithm for discovering clusters in large spatial databases with noise. In kdd (Vol. 96, No. 34, pp. 226-231).\n",
    "__________________________________________________________________________________________________________________________"
   ]
  },
  {
   "cell_type": "markdown",
   "id": "ba4ddcf0",
   "metadata": {},
   "source": [
    "**COMENTARIOS:** \n",
    "\n",
    "Los gráficos que exporta este notebook están pensados para datos con más de 3 variables y variables que indiquen porcentajes (por eso la extensión de 0 a 100 en el eje Y, esta opción es personalizable). Para datos de 2 variables es más adecuado un scatterplot.\n",
    "\n",
    "Para evitar fallos es recomendable limpiar el output antes de cada intento, reiniciar el kernel y correr el notebook completo.\n",
    "\n",
    "Uso libre."
   ]
  },
  {
   "cell_type": "markdown",
   "id": "47acb524",
   "metadata": {},
   "source": [
    "________________________________________________________"
   ]
  },
  {
   "cell_type": "markdown",
   "id": "63a394e2",
   "metadata": {},
   "source": [
    "Importación de librerías"
   ]
  },
  {
   "cell_type": "code",
   "execution_count": null,
   "id": "0fa0471d",
   "metadata": {},
   "outputs": [],
   "source": [
    "#ES IMPORTANTE TENER PREVIAMENTE INSTALADAS LAS LIBRERÍAS\n",
    "\n",
    "import os #interactuar con el sistema\n",
    "import pandas as pd #análisis de datos\n",
    "from sklearn.cluster import DBSCAN #clustering\n",
    "from sklearn.preprocessing import StandardScaler\n",
    "from sklearn.neighbors import NearestNeighbors\n",
    "import matplotlib.pyplot as plt #gráficos\n",
    "import tkinter as tk #ventanas emergentes\n",
    "from tkinter import filedialog, simpledialog, messagebox\n",
    "import numpy as np #cálculos"
   ]
  },
  {
   "cell_type": "markdown",
   "id": "3445561c",
   "metadata": {},
   "source": [
    "Importación de los datos"
   ]
  },
  {
   "cell_type": "code",
   "execution_count": null,
   "id": "6f5b1082",
   "metadata": {},
   "outputs": [],
   "source": [
    "root = tk.Tk()\n",
    "root.withdraw()  # Ocultar la ventana principal de Tkinter\n",
    "\n",
    "messagebox.showinfo(\"Información\", \"Seleccione el archivo CSV con los datos.\") # Crear una ventana emergente para seleccionar el archivo CSV\n",
    "\n",
    "file_path = filedialog.askopenfilename(title=\"Selecciona el archivo CSV\")\n",
    "if not file_path:\n",
    "    messagebox.showwarning(\"Advertencia\", \"No se seleccionó ningún archivo. Saliendo del programa.\")\n",
    "    exit()\n",
    "\n",
    "# Cargar los datos desde el archivo CSV\n",
    "\n",
    "data = pd.read_csv(file_path, engine='python', index_col=0) #con index_col=0 se indica que las columnas tienen nombre"
   ]
  },
  {
   "cell_type": "markdown",
   "id": "0a1292da",
   "metadata": {},
   "source": [
    "Ver tipo de datos"
   ]
  },
  {
   "cell_type": "code",
   "execution_count": null,
   "id": "add8c0d3",
   "metadata": {},
   "outputs": [],
   "source": [
    "data.info()\n",
    "data.head()"
   ]
  },
  {
   "cell_type": "markdown",
   "id": "3659c3ad",
   "metadata": {},
   "source": [
    "Variables a analizar"
   ]
  },
  {
   "cell_type": "code",
   "execution_count": null,
   "id": "3413433c",
   "metadata": {},
   "outputs": [],
   "source": [
    "# Solicitar el número de variables a analizar\n",
    "\n",
    "num_variables = simpledialog.askinteger(\"Número de Variables\", \"Introduce el número de variables:\")\n",
    "\n",
    "if num_variables is None:\n",
    "    messagebox.showwarning(\"Advertencia\", \"No se proporcionó el número de variables. Saliendo del programa.\")\n",
    "    exit()\n",
    "\n",
    "X = data.iloc[:, :num_variables]"
   ]
  },
  {
   "cell_type": "markdown",
   "id": "9d0b2521",
   "metadata": {},
   "source": [
    "\n",
    "___________________________________________________________________________________________________________________________\n"
   ]
  },
  {
   "cell_type": "markdown",
   "id": "3de13ddf",
   "metadata": {},
   "source": [
    "**Parametrización de DBSCAN**"
   ]
  },
  {
   "cell_type": "code",
   "execution_count": null,
   "id": "8f11134c",
   "metadata": {},
   "outputs": [],
   "source": [
    "# Normalizar los datos\n",
    "\n",
    "scaler = StandardScaler()\n",
    "X_scaled = scaler.fit_transform(X)"
   ]
  },
  {
   "cell_type": "code",
   "execution_count": null,
   "id": "0f3946cb",
   "metadata": {},
   "outputs": [],
   "source": [
    "# Solicitar al usuario el numero de puntos vecinos\n",
    "\n",
    "Neighbors = simpledialog.askinteger(\"Neighbors\", \"Introduce el numero de puntos vecinos para la estimación de epsilon:\")\n",
    "neigh = NearestNeighbors(n_neighbors=Neighbors)\n",
    "nbrs = neigh.fit(X_scaled)\n",
    "distancias, indices = nbrs.kneighbors(X_scaled)\n",
    "\n",
    "distancias = np.sort (distancias, axis=0) #ordena las distancias de menor a mayor\n",
    "dist= Neighbors-1\n",
    "distancias = distancias [:,dist] #selecciona la última distancia, es decir la mayor\n",
    "\n",
    "#Crear gráfico de codo\n",
    "\n",
    "fig = plt.figure(figsize=(7,7))\n",
    "plt.plot(distancias)\n",
    "plt.xlabel(\"puntos\")\n",
    "plt.ylabel(\"distancia\")\n",
    "\n",
    "# Agregar líneas guía al gráfico\n",
    "\n",
    "espaciado = 1\n",
    "min_dist = np.min(distancias)\n",
    "max_dist = np.max(distancias)\n",
    "for i in range(int(min_dist), int(max_dist), espaciado):\n",
    "    plt.axhline(i, color='lightgray', linestyle='--', linewidth=0.5)\n",
    "    \n",
    "plt.show()\n",
    "print(f'distancia: {dist}')"
   ]
  },
  {
   "cell_type": "code",
   "execution_count": null,
   "id": "6235857e",
   "metadata": {},
   "outputs": [],
   "source": [
    "# Solicitar al usuario el valor epsilon\n",
    "\n",
    "Epsilon = simpledialog.askfloat(\"Epsilon\", \"Introduce el valor de epsilon , puedes usar el grafico de codo como apoyo:\")\n",
    "\n",
    "if num_variables is None:\n",
    "    print(\"No se proporcionó el número de variables.\")\n",
    "    exit()\n",
    "    \n",
    "min_samples = Neighbors"
   ]
  },
  {
   "cell_type": "markdown",
   "id": "3ba7c4ee",
   "metadata": {},
   "source": [
    "**Nota** :Epsilon (ε) determina la distancia máxima entre dos puntos de datos para que se consideren vecinos cercanos,\n",
    "ε define un radio alrededor de cada punto de datos central, y todos los puntos dentro de ese radio se consideran vecinos\n",
    "del punto central."
   ]
  },
  {
   "cell_type": "markdown",
   "id": "156fac77",
   "metadata": {},
   "source": [
    "**Clustering DBSCAN**"
   ]
  },
  {
   "cell_type": "code",
   "execution_count": null,
   "id": "240e94f4",
   "metadata": {},
   "outputs": [],
   "source": [
    "# Crear un objeto DBSCAN y ajustarlo a los datos\n",
    "\n",
    "dbscan = DBSCAN(eps=Epsilon, min_samples=min_samples)  #Usa los datos de ε y minimo de vecinos solicitados antes\n",
    "dbscan.fit(X_scaled)"
   ]
  },
  {
   "cell_type": "code",
   "execution_count": null,
   "id": "3c1ed207",
   "metadata": {},
   "outputs": [],
   "source": [
    "# Obtener las etiquetas de clúster asignadas a cada punto de datos\n",
    "\n",
    "cluster_labels = dbscan.labels_\n",
    "\n",
    "# Agregar la columna de clústeres al DataFrame original\n",
    "\n",
    "data['Cluster'] = cluster_labels"
   ]
  },
  {
   "cell_type": "code",
   "execution_count": null,
   "id": "b01f216e",
   "metadata": {},
   "outputs": [],
   "source": [
    "# Contar el número de clusters y puntos de ruido (-1 representa ruido)\n",
    "\n",
    "n_clusters = len(set(cluster_labels)) - (1 if -1 in cluster_labels else 0)\n",
    "n_noise = list(cluster_labels).count(-1)\n",
    "\n",
    "# Mostrar el número de clusters y puntos de ruido\n",
    "\n",
    "messagebox.showinfo(\"Información\",f\"Número de clusters encontrados: '{n_clusters}'.\")\n",
    "messagebox.showinfo(\"Información\",f\"Número de puntos de ruido: '{n_noise}'.\")\n",
    "\n",
    "# Imprimir el número de clusters y puntos de ruido\n",
    "\n",
    "print(f'Número de clusters encontrados: {n_clusters}')\n",
    "print(f'Número de puntos de ruido: {n_noise}')"
   ]
  },
  {
   "cell_type": "markdown",
   "id": "4d30346d",
   "metadata": {},
   "source": [
    "**Creación de los gráficos**"
   ]
  },
  {
   "cell_type": "code",
   "execution_count": null,
   "id": "370301d0",
   "metadata": {},
   "outputs": [],
   "source": [
    "# Transponer los datos para crear un gráfico de líneas\n",
    "\n",
    "cluster_data = X[cluster_labels != -1].groupby(cluster_labels[cluster_labels != -1])\n",
    "fig, ax = plt.subplots(figsize=(14, 5))\n",
    "\n",
    "messagebox.showinfo(\"Información\", \"Seleccione una carpeta para guardar los gráficos.\")\n",
    "\n",
    "# Solicitar al usuario la carpeta para guardar los gráficos\n",
    "\n",
    "output_folder = filedialog.askdirectory(title=\"Selecciona la carpeta para guardar los gráficos\")\n",
    "if not output_folder:\n",
    "    messagebox.showwarning(\"Advertencia\", \"No se seleccionó ninguna carpeta.\")\n",
    "    exit()\n",
    "    \n",
    "#tipografía del gráfico\n",
    "\n",
    "from matplotlib import rcParams\n",
    "rcParams['font.family'] = 'serif'  # Puedes cambiar 'serif' por el nombre de la fuente que desees\n",
    "rcParams['font.serif'] = ['Times New Roman']  # Puedes especificar una fuente específica aquí\n",
    "rcParams['font.size'] = 22  # Establece el tamaño de fuente predeterminado\n",
    "    \n",
    "# Crear gráficos de líneas para cada clúster y guardar imágenes\n",
    "\n",
    "unique_clusters = set(cluster_labels)\n",
    "for cluster in unique_clusters:\n",
    "    if cluster == -1:\n",
    "        continue  # Saltar el cluster de ruido (-1)\n",
    "    \n",
    "    cluster_data = X[cluster_labels == cluster]\n",
    "    cluster_data_transposed = cluster_data.T  # Transponer los datos para que las variables estén en el eje x\n",
    "\n",
    "    # Configuración del gráfico\n",
    "    fig, ax = plt.subplots(figsize=(24, 12))\n",
    "    ax.plot(cluster_data_transposed, marker='o')\n",
    "    \n",
    "    # Establecer límites del eje vertical de 0 a 100\n",
    "    ax.set_ylim(0, 100)\n",
    "\n",
    "    # Etiquetas de eje y\n",
    "    ax.set_ylabel('% Peso')\n",
    "\n",
    "    # Etiquetas de eje x (nombres de variables)\n",
    "    ax.set_xticks(range(num_variables))\n",
    "    ax.set_xticklabels(X.columns, rotation=90)\n",
    "\n",
    "    # Título del gráfico\n",
    "    ax.set_title(f'Cluster {cluster}')\n",
    "    \n",
    "    # Líneas guía verticales\n",
    "    for y in range(0, 101, 10):\n",
    "        ax.axhline(y, color='gray', linestyle='--', alpha=0.2)\n",
    "\n",
    "    # Calcular la cantidad de datos en el cluster actual\n",
    "    num_data_points = len(cluster_data)\n",
    "    \n",
    "    # Agregar leyenda con la cantidad de datos\n",
    "    ax.legend([f'Num_samples: {num_data_points}'], loc='upper right')\n",
    "    \n",
    "    # Guardar la imagen en la carpeta especificada\n",
    "    output_filename = os.path.join(output_folder, f'cluster_{cluster}.png')\n",
    "    plt.savefig(output_filename, bbox_inches='tight')\n",
    "    plt.show()"
   ]
  },
  {
   "cell_type": "markdown",
   "id": "93ed1a0a",
   "metadata": {},
   "source": [
    "Agregando la clasificación y exportando el archivo CSV con clústeres."
   ]
  },
  {
   "cell_type": "code",
   "execution_count": null,
   "id": "ceaaf80c",
   "metadata": {},
   "outputs": [],
   "source": [
    "# Solicitar al usuario la ubicación y el nombre del archivo para guardar los resultados\n",
    "\n",
    "messagebox.showinfo(\"Información\", \"Seleccione una carpeta y un nombre para guardar los datos agrupados.\")\n",
    "\n",
    "output_file = filedialog.asksaveasfilename(title=\"Guardar archivo CSV\", defaultextension=\".csv\")\n",
    "if not output_file:\n",
    "    messagebox.showwarning(\"Advertencia\", \"No se seleccionó ninguna carpeta.\")\n",
    "    exit()\n",
    "if output_file:\n",
    "    data.to_csv(output_file, index= True)\n",
    "    messagebox.showinfo(\"Información\", f\"Los resultados se han guardado en '{output_file}'.\")"
   ]
  },
  {
   "cell_type": "code",
   "execution_count": null,
   "id": "ea9d4fc7",
   "metadata": {},
   "outputs": [],
   "source": [
    "#Mensaje de aviso al final (ventana emergente)\n",
    "messagebox.showinfo(\"Información\", \"¡EL PROCESO HA FINALIZADO!\")"
   ]
  },
  {
   "cell_type": "markdown",
   "id": "2a8e0838",
   "metadata": {},
   "source": [
    "________________________________________________________"
   ]
  }
 ],
 "metadata": {
  "kernelspec": {
   "display_name": "Python 3",
   "language": "python",
   "name": "python3"
  },
  "language_info": {
   "codemirror_mode": {
    "name": "ipython",
    "version": 3
   },
   "file_extension": ".py",
   "mimetype": "text/x-python",
   "name": "python",
   "nbconvert_exporter": "python",
   "pygments_lexer": "ipython3",
   "version": "3.9.12"
  }
 },
 "nbformat": 4,
 "nbformat_minor": 5
}
